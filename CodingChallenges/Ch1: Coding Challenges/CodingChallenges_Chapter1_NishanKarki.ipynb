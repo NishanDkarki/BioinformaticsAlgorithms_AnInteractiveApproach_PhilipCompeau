{
 "cells": [
  {
   "cell_type": "markdown",
   "id": "1f04ba44",
   "metadata": {},
   "source": [
    "Nishan Karki\n",
    "BINF 3360\n",
    "Computational Biology\n",
    "Date: 02/03/2022"
   ]
  },
  {
   "cell_type": "markdown",
   "id": "d1be7385",
   "metadata": {},
   "source": [
    "# Chapter 1"
   ]
  },
  {
   "cell_type": "markdown",
   "id": "6ee2e7e4",
   "metadata": {},
   "source": [
    "# 1.2 Step 6"
   ]
  },
  {
   "cell_type": "code",
   "execution_count": 263,
   "id": "188842ab",
   "metadata": {},
   "outputs": [
    {
     "name": "stdout",
     "output_type": "stream",
     "text": [
      "1\n"
     ]
    }
   ],
   "source": [
    "def PatternCount(Text, Pattern):\n",
    "    count = 0\n",
    "    # print(len(Text) - len(Pattern))\n",
    "    for i in range(0, (len(Text) + 1 - len(Pattern))):\n",
    "        # print(i)\n",
    "        # print(count)\n",
    "        if Text.startswith(Pattern, i, i + len(Pattern)):\n",
    "            count = count + 1\n",
    "    return count\n",
    "print(PatternCount('TATGGGATGTAGTTGCTAGACGTAGTTGCGACGATAGTTGCGTCTAGTTGCA', 'TAGTTGCTA'))\n"
   ]
  },
  {
   "cell_type": "markdown",
   "id": "f6445739",
   "metadata": {},
   "source": [
    "# 1.2 Step 13"
   ]
  },
  {
   "cell_type": "code",
   "execution_count": 262,
   "id": "b3cb9aae",
   "metadata": {},
   "outputs": [
    {
     "name": "stdout",
     "output_type": "stream",
     "text": [
      "['GAC', 'ACT', 'CTA', 'TAT', 'ATC', 'TCG', 'CGA', 'GAT']\n"
     ]
    }
   ],
   "source": [
    "def patternCount(text, kmer):\n",
    "    word_index = {}\n",
    "    freq_words = []\n",
    "#     print((len(text) - kmer))\n",
    "    for i in range(len(text) - kmer + 1):\n",
    "        word = text[i:kmer + i]\n",
    "#         print(i)\n",
    "#         print(word)\n",
    "        if word not in word_index:\n",
    "            word_index[word] = 1\n",
    "        else:\n",
    "            word_index[word] += 1\n",
    "\n",
    "#     print(word_index)\n",
    "\n",
    "    max_count = max(word_index.values())\n",
    "\n",
    "    for key, val in word_index.items():\n",
    "        if max_count == val:\n",
    "            freq_words.append(key)\n",
    "\n",
    "    print(freq_words)\n",
    "\n",
    "\n",
    "patternCount('GACTATCGAT', 3)"
   ]
  },
  {
   "cell_type": "markdown",
   "id": "c16d3343",
   "metadata": {},
   "source": [
    "# 1.3 Step 2"
   ]
  },
  {
   "cell_type": "code",
   "execution_count": 20,
   "id": "8f599b8d",
   "metadata": {},
   "outputs": [
    {
     "name": "stdout",
     "output_type": "stream",
     "text": [
      "TGCAACTAGACGCAACTATCGTCGCAACTACGTCTGCAACTACATCCCATACGCAACTAGTGCAACTAGAAGCAACTAAGCAACTAGCAACTACAGGCCTGGTGGTCTGCAACTAGAGCAACTAGAACGACATGCAACTAGCAACTACGCAACTAAACCAAGTGCAACTACTCTGCAACTAGCAACTACCGGCAACTACTGGAACTGAGCAACTAGGGTCAGCAACTAACGGCAACTAAAGTTCAGCAACTACAGAGCAACTACCGACTTCGGGCAACTAGCAACTAGCAACTACGCAACTAAGCAACTAAGGAGCAACTACATGGCAACTAGCAACTAGCCCGCGCAACTAGCAACTAGCAACTAAGAGCAACTAAGAGCAACTATTGCAACTAGCAACTAAGCAACTAGCAACTACCCTTGGCAACTAGATTGCAACTAGAGCAACTAAAGGAGCAACTAGGGGATGGCAACTAGATAATGTGCAACTACGAACGGCTGCAACTAGTTTCGCAACTATAAAAGTGCAACTACGCAACTAAAGCAACTACGCAACTAGGCAACTAGGTGCAACTAGCAACTAGATAGCAACTACTGTTGCAACTAAGCAACTAGCAACTAACTATGGGCAACTACTAGCCGCGCAACTACGCAACTAAGCAACTAGCAACTATGGCAACTAGCAACTAGTGGGCAACTAGCAACTAGCAACTATGCAACTAATTAGGGCAACTAGAGGGCAACTAGGCAACTACTGCAACTAGCAACTAGGAGCAACTAGGCTGTTGTCGCAACTATTCTAGCAACTAAGGCAACTAAAGCAACTACCCATATATTTTCTTCTCGCAACTAGCAACTAAGCAACTAGCAACTACGGCAACTAGCAACTAGCAACTATGGGGCAACTAGCGGACACGCAACTAGGGACGCAACTATGCAACTAGCAACTAGCAACTAAGCAACTACAGGCAACTAGCAACTAGCAACTAGCAACTACAGCAACTAACGCGCAACTATGACCGGCAACTATGTGCAACTAGGGCAACTAATCCGGTT\n"
     ]
    }
   ],
   "source": [
    "import os\n",
    "def reverse_complement(text):\n",
    "    complementary_strand = str()\n",
    "    for i in range(len(text)):\n",
    "        letter = text[i]\n",
    "        if letter == 'A':\n",
    "            complementary_strand = complementary_strand + 'T'\n",
    "        elif letter == 'G':\n",
    "            complementary_strand = complementary_strand + 'C'\n",
    "        elif letter == 'T':\n",
    "            complementary_strand = complementary_strand + 'A'\n",
    "        elif letter == 'C':\n",
    "            complementary_strand = complementary_strand + 'G'\n",
    "        else:\n",
    "            print(\"Input error\")\n",
    "\n",
    "    reverse_strand = complementary_strand[::-1]\n",
    "    print(reverse_strand)\n",
    "    return reverse_strand\n",
    "\n",
    "\n",
    "def main():\n",
    "    with open('/Users/nises/Desktop/dataset_604399_6.txt') as input_data:\n",
    "        inp_text = input_data.readline().strip()\n",
    "\n",
    "    answer = reverse_complement(inp_text)\n",
    "    with open(os.path.join('/Users/nises/Desktop/Answer.txt'), 'w') as output_data:\n",
    "        output_data.write(''.join(answer))\n",
    "\n",
    "\n",
    "if __name__ == '__main__':\n",
    "    main()\n"
   ]
  },
  {
   "cell_type": "markdown",
   "id": "bfc5b48d",
   "metadata": {},
   "source": [
    "# 1.3 Step 5"
   ]
  },
  {
   "cell_type": "code",
   "execution_count": 23,
   "id": "c05e4cfc",
   "metadata": {},
   "outputs": [
    {
     "name": "stdout",
     "output_type": "stream",
     "text": [
      "AACCGGATTAGTTGCCCTAGTTGCACATAGTTGCCGGTCATAGTTGCGCGTTAGTTGCTGTAGTTGCTAGTTGCTAGTTGCTAGTTGCCTGTAGTTGCTTAGTTGCTAGTTGCTAGTTGCATAGTTGCGTCCCTAGTTGCGTGTCCGCTAGTTGCCCCATAGTTGCTAGTTGCTAGTTGCCGTAGTTGCTAGTTGCTTAGTTGCTAGTTGCGAGAAGAAAATATATGGGTAGTTGCTTTAGTTGCCTTAGTTGCTAGAATAGTTGCGACAACAGCCTAGTTGCTCCTAGTTGCTAGTTGCAGTAGTTGCCTAGTTGCCCTCTAGTTGCCCTAATTAGTTGCATAGTTGCTAGTTGCTAGTTGCCCACTAGTTGCTAGTTGCCATAGTTGCTAGTTGCTTAGTTGCGTAGTTGCGCGGCTAGTAGTTGCCCATAGTTAGTTGCTAGTTGCTTAGTTGCAACAGTAGTTGCTATCTAGTTGCTAGTTGCACCTAGTTGCCTAGTTGCGTAGTTGCTTTAGTTGCGTAGTTGCACTTTTATAGTTGCGAAACTAGTTGCAGCCGTTCGTAGTTGCACATTATCTAGTTGCCATCCCCTAGTTGCTCCTTTAGTTGCTCTAGTTGCAATCTAGTTGCCAAGGGTAGTTGCTAGTTGCTTAGTTGCTAGTTGCAATAGTTGCTCTTAGTTGCTCTTAGTTGCTAGTTGCTAGTTGCGCGGGCTAGTTGCTAGTTGCCATGTAGTTGCTCCTTAGTTGCTTAGTTGCGTAGTTGCTAGTTGCTAGTTGCCCGAAGTCGGTAGTTGCTCTGTAGTTGCTGAACTTTAGTTGCCGTTAGTTGCTGACCCTAGTTGCTCAGTTCCAGTAGTTGCCGGTAGTTGCTAGTTGCAGAGTAGTTGCACTTGGTTTAGTTGCGTAGTTGCTAGTTGCATGTCGTTCTAGTTGCTCTAGTTGCAGACCACCAGGCCTGTAGTTGCTAGTTGCTTAGTTGCTTCTAGTTGCACTAGTTGCGTATGGGATGTAGTTGCAGACGTAGTTGCGACGATAGTTGCGTCTAGTTGCA\n",
      "TAGTTGCTA\n"
     ]
    }
   ],
   "source": [
    "import os\n",
    "\n",
    "\n",
    "def find_substring(substring, text):\n",
    "    position = str()\n",
    "    for i in range(len(text) - len(substring) + 1):\n",
    "        if text.startswith(substring, i, i + len(substring)):\n",
    "            position = position + str(i) + ' '\n",
    "\n",
    "    return position\n",
    "\n",
    "\n",
    "def main():\n",
    "    with open('/Users/nises/Desktop/dataset_604399_6.txt') as input_data:\n",
    "\n",
    "        substring = input_data.readline().strip()\n",
    "        print(substring)\n",
    "        text = input_data.readline().strip()\n",
    "        print(text)\n",
    "\n",
    "    answer = find_substring(substring, text)\n",
    "    # find_substring('in', 'inputextin')\n",
    "\n",
    "    with open(os.path.join('/Users/nises/Desktop/Answer.txt'), 'w') as output_data:\n",
    "        output_data.write(''.join(answer))\n",
    "\n",
    "\n",
    "if __name__ == '__main__':\n",
    "    main()"
   ]
  },
  {
   "cell_type": "markdown",
   "id": "19c02139",
   "metadata": {},
   "source": [
    "# 1.4 Step 5"
   ]
  },
  {
   "cell_type": "code",
   "execution_count": 233,
   "id": "e7d89fc7",
   "metadata": {},
   "outputs": [
    {
     "name": "stdout",
     "output_type": "stream",
     "text": [
      "[]\n"
     ]
    }
   ],
   "source": [
    "def patternCount(text, k, L, t):\n",
    "    freq_words = []\n",
    "\n",
    "    for j in range(len(text)-L+1):\n",
    "    \n",
    "        str_length = text[j:(L+j)]\n",
    "        word_index = {}\n",
    "        for i in range(len(str_length)-k+1):\n",
    "         \n",
    "            word = str_length[i:k+i]\n",
    "            if word not in word_index:\n",
    "                word_index[word] = 1\n",
    "            else:\n",
    "                word_index[word] += 1\n",
    "\n",
    "        for key, val in word_index.items():\n",
    "            if val >= t:\n",
    "                freq_words.append(key)\n",
    "\n",
    "    freq_words1 = []\n",
    "    for i in freq_words:\n",
    "        if i not in freq_words1:\n",
    "            freq_words1.append(i)       \n",
    "    return freq_words1\n",
    "\n",
    "def main():\n",
    "    with open('/Users/nises/Downloads/dataset_604405_10.txt') as input_data:\n",
    "        text = input_data.readline().strip()\n",
    "        k, L, t = map(int, input_data.readline().split())         \n",
    "\n",
    "    answer = patternCount(text, k, L, t)\n",
    "    print(answer)\n",
    "    \n",
    "    with open(os.path.join('/Users/nises/Desktop/Answer.txt'), 'w') as output_data:\n",
    "        output_data.write(' '.join(answer))\n",
    "\n",
    "\n",
    "if __name__ == '__main__':\n",
    "    main()"
   ]
  },
  {
   "cell_type": "markdown",
   "id": "a6a62969",
   "metadata": {},
   "source": [
    "# 1.7 Step 10"
   ]
  },
  {
   "cell_type": "code",
   "execution_count": 65,
   "id": "19b3c3a9",
   "metadata": {},
   "outputs": [
    {
     "name": "stdout",
     "output_type": "stream",
     "text": [
      "['41149', '41150', '41151', '41152', '41153', '41154', '41155', '41174', '41175']\n"
     ]
    }
   ],
   "source": [
    "def min_skew(text):\n",
    "    skew = 0\n",
    "    min_value = 0 \n",
    "    min_list = []\n",
    "\n",
    "    for i in range(len(text)):\n",
    "#         print(i)\n",
    "        if text[i] == 'C':\n",
    "            skew -= 1\n",
    "        if text[i] == 'G':\n",
    "            skew += 1\n",
    "            \n",
    "        if skew < min_value:\n",
    "            min_list = [str(i+1)]\n",
    "            min_value = skew\n",
    "#             print(\"less\")\n",
    "#             print(min_list)\n",
    "#             print(min_value)\n",
    "        if skew == min_value and str(i+1) not in min_list:\n",
    "            min_list.append(str(i+1))\n",
    "#             print(\"equal\")\n",
    "#             print(min_list)\n",
    "    return min_list\n",
    "\n",
    "def main():\n",
    "    with open('/Users/nises/Downloads/dataset_604404_10.txt') as input_data:\n",
    "        text = input_data.readline().strip()\n",
    "        \n",
    "    answer = min_skew(text)\n",
    "\n",
    "    print(answer)\n",
    "    with open(os.path.join('/Users/nises/Desktop/Answer.txt'), 'w') as output_data:\n",
    "        output_data.write(' '.join(answer))\n",
    "\n",
    "if __name__ == '__main__':\n",
    "    main()"
   ]
  },
  {
   "cell_type": "markdown",
   "id": "7f9e8024",
   "metadata": {},
   "source": [
    "# 1.8 Step 3"
   ]
  },
  {
   "cell_type": "code",
   "execution_count": 74,
   "id": "c4592d3a",
   "metadata": {},
   "outputs": [
    {
     "name": "stdout",
     "output_type": "stream",
     "text": [
      "816\n"
     ]
    }
   ],
   "source": [
    "def ham_distane(text1, text2):\n",
    "    ham_value = 0\n",
    "    for i in range(len(text1)):\n",
    "        \n",
    "        if text1[i] != text2[i]:\n",
    "#             print(i)\n",
    "            ham_value += 1\n",
    "    return ham_value\n",
    "\n",
    "def main():\n",
    "    with open('/Users/nises/Downloads/dataset_604405_3.txt') as input_data:\n",
    "        text1 = input_data.readline().strip()\n",
    "        text2 = input_data.readline().strip()\n",
    "        \n",
    "    answer = ham_distane(text1, text2)\n",
    "#     answer = ham_distane('GGGCCGTTGGT', 'GGACCGTTGAC')\n",
    "\n",
    "\n",
    "    print(answer)\n",
    "    with open(os.path.join('/Users/nises/Desktop/Answer.txt'), 'w') as output_data:\n",
    "        output_data.write(str(answer))\n",
    "\n",
    "if __name__ == '__main__':\n",
    "    main()"
   ]
  },
  {
   "cell_type": "markdown",
   "id": "a9016cb4",
   "metadata": {},
   "source": [
    "# 1.8 Step 4"
   ]
  },
  {
   "cell_type": "code",
   "execution_count": 94,
   "id": "4ffd1c4c",
   "metadata": {},
   "outputs": [
    {
     "name": "stdout",
     "output_type": "stream",
     "text": [
      "5\n"
     ]
    }
   ],
   "source": [
    "def ham_pattern(text1, text2, d):\n",
    "    pos_list = []\n",
    "    k = len(text1)\n",
    "    for i in range(len(text2)-k+1):\n",
    "        word = text2[i:len(text1)+i]\n",
    "        ham_value = 0\n",
    "        for j in range(len(word)): \n",
    "            if word[j] != text1[j]:\n",
    "                ham_value += 1\n",
    "        if ham_value <= d:\n",
    "            pos_list.append(str(i))\n",
    "        \n",
    "    return pos_list\n",
    "\n",
    "def main():\n",
    "    with open('/Users/nises/Downloads/dataset_604405_4.txt') as input_data:\n",
    "        text1 = input_data.readline().strip()\n",
    "        text2 = input_data.readline().strip()\n",
    "        d = int(input_data.readline().strip())\n",
    "#         print(d)\n",
    "        \n",
    "    answer = ham_pattern(text1, text2, d)\n",
    "    \n",
    "#     answer = ham_pattern('ATTCTGGA', 'CGCCCGAATCCAGAACGCATTCCCATATTTCGGGACCACTGGCCTCCACGGTACGGACGTCAATCAAAT', 3)\n",
    "\n",
    "\n",
    "#     print(answer)\n",
    "    with open(os.path.join('/Users/nises/Desktop/Answer.txt'), 'w') as output_data:\n",
    "        output_data.write(' '.join(answer))\n",
    "\n",
    "if __name__ == '__main__':\n",
    "    main()"
   ]
  },
  {
   "cell_type": "markdown",
   "id": "0764c5e9",
   "metadata": {},
   "source": [
    "# 1.8 Step 6"
   ]
  },
  {
   "cell_type": "code",
   "execution_count": 124,
   "id": "002334f7",
   "metadata": {},
   "outputs": [
    {
     "name": "stdout",
     "output_type": "stream",
     "text": [
      "310\n"
     ]
    }
   ],
   "source": [
    "def ham_pattern(text1, text2, d):\n",
    "    kmer = len(text1)\n",
    "    word_index = {}\n",
    "    freq_words = []\n",
    "    for i in range(len(text2) - kmer + 1):\n",
    "        word = text2[i:kmer + i]\n",
    "        ham_value = 0\n",
    "        for j in range(len(word)): \n",
    "            if word[j] != text1[j]:\n",
    "                ham_value += 1\n",
    "        if ham_value <= d:\n",
    "            word = text1\n",
    "            \n",
    "        if word not in word_index:\n",
    "            word_index[word] = 1\n",
    "        else:\n",
    "            word_index[word] += 1\n",
    "\n",
    "    max_count = str(max(word_index.values()))\n",
    "\n",
    "#     for key, val in word_index.items():\n",
    "#         if max_count == val:\n",
    "#             freq_words.append(key)\n",
    "        \n",
    "    return max_count\n",
    "\n",
    "def main():\n",
    "    with open('/Users/nises/Downloads/dataset_604405_6.txt') as input_data:\n",
    "        text1 = input_data.readline().strip()\n",
    "        text2 = input_data.readline().strip()\n",
    "        d = int(input_data.readline().strip())\n",
    "        \n",
    "    answer = ham_pattern(text1, text2, d)\n",
    "    \n",
    "#     answer = ham_pattern('GAGG', 'TTTAGAGCCTTCAGAGG', 2)\n",
    "    print(answer)\n",
    "\n",
    "    with open(os.path.join('/Users/nises/Desktop/Answer.txt'), 'w') as output_data:\n",
    "        output_data.write(' '.join(answer))\n",
    "\n",
    "if __name__ == '__main__':\n",
    "    main()"
   ]
  },
  {
   "cell_type": "markdown",
   "id": "e8cb3d35",
   "metadata": {},
   "source": [
    "# 1.8 Step 9"
   ]
  },
  {
   "cell_type": "code",
   "execution_count": 225,
   "id": "65f4c7fa",
   "metadata": {},
   "outputs": [
    {
     "name": "stdout",
     "output_type": "stream",
     "text": [
      "['TTGTTG']\n"
     ]
    }
   ],
   "source": [
    "def ham_distane(text1, text2):\n",
    "    ham_value = 0\n",
    "    for i in range(len(text1)):  \n",
    "        if text1[i] != text2[i]:\n",
    "            ham_value += 1\n",
    "    return ham_value\n",
    "\n",
    "def neighbors(pattern, d):\n",
    "    if d == 0:\n",
    "        return pattern\n",
    "    if len(pattern) == 1:\n",
    "        return [\"A\", \"C\", \"G\", \"T\"]\n",
    "    neighborhood= []\n",
    "    suffixneighbors = neighbors(pattern[1:], d)\n",
    "    for i in suffixneighbors:\n",
    "        if hamming_distance(pattern[1:], i) < d:\n",
    "            for j in [\"A\", \"C\", \"G\", \"T\"]:\n",
    "                neighborhood.append(j + i)\n",
    "        else:\n",
    "            neighborhood.append(pattern[0] + i)\n",
    "\n",
    "    return neighborhood\n",
    "\n",
    "def frequent_mismatch(Text, k, d):\n",
    "    Patterns = []\n",
    "    freqMap = {}\n",
    "    n = len(Text)\n",
    "    for i in range (n - k +1):\n",
    "        Pattern = Text[i:k+i]\n",
    "        neighborhood = neighbors(Pattern, d)\n",
    "        for j in range (len(neighborhood)):\n",
    "            neighbor = neighborhood[j]\n",
    "            if neighbor not in freqMap:\n",
    "                freqMap[neighbor] = 1\n",
    "            else:\n",
    "                freqMap[neighbor] += 1\n",
    "    \n",
    "    max_count = max(freqMap.values())\n",
    "\n",
    "    for key, val in freqMap.items():\n",
    "        if max_count == val:\n",
    "            Patterns.append(key)\n",
    "    return Patterns\n",
    "\n",
    "def main():\n",
    "    with open('/Users/nises/Downloads/dataset_604405_9.txt') as input_data:\n",
    "        text1 = input_data.readline().strip()\n",
    "        \n",
    "        params = input_data.readline().strip().split('\\n')\n",
    "        split_params = [n for n in params[0].split(' ')]\n",
    "        k = int(split_params[0])\n",
    "        d = int(split_params[1])\n",
    "        \n",
    "    answer = frequent_mismatch(text1, k, d)\n",
    "#     answer = frequent_mismatch('ACGTTGCATGTCGCATGATGCATGAGAGCT', 4, 1)\n",
    "    print(answer)\n",
    "    with open(os.path.join('/Users/nises/Desktop/Answer.txt'), 'w') as output_data:\n",
    "        output_data.write(' '.join(answer))\n",
    "\n",
    "if __name__ == '__main__':\n",
    "    main()"
   ]
  },
  {
   "cell_type": "markdown",
   "id": "de298594",
   "metadata": {},
   "source": [
    "# 1.8 Step 10"
   ]
  },
  {
   "cell_type": "code",
   "execution_count": 230,
   "id": "96233811",
   "metadata": {},
   "outputs": [
    {
     "name": "stdout",
     "output_type": "stream",
     "text": [
      "['TAATA', 'TATTA']\n"
     ]
    }
   ],
   "source": [
    "def reverse_complement(text):\n",
    "    complementary_strand = str()\n",
    "    for i in range(len(text)):\n",
    "        letter = text[i]\n",
    "        if letter == 'A':\n",
    "            complementary_strand = complementary_strand + 'T'\n",
    "        elif letter == 'G':\n",
    "            complementary_strand = complementary_strand + 'C'\n",
    "        elif letter == 'T':\n",
    "            complementary_strand = complementary_strand + 'A'\n",
    "        elif letter == 'C':\n",
    "            complementary_strand = complementary_strand + 'G'\n",
    "        else:\n",
    "            print(\"Input error\")\n",
    "\n",
    "    reverse_strand = complementary_strand[::-1]\n",
    "    return reverse_strand\n",
    "\n",
    "def ham_distane(text1, text2):\n",
    "    ham_value = 0\n",
    "    for i in range(len(text1)):  \n",
    "        if text1[i] != text2[i]:\n",
    "            ham_value += 1\n",
    "    return ham_value\n",
    "\n",
    "def neighbors(pattern, d):\n",
    "    if d == 0:\n",
    "        return pattern\n",
    "    if len(pattern) == 1:\n",
    "        return [\"A\", \"C\", \"G\", \"T\"]\n",
    "    neighborhood= []\n",
    "    suffixneighbors = neighbors(pattern[1:], d)\n",
    "    for i in suffixneighbors:\n",
    "        if hamming_distance(pattern[1:], i) < d:\n",
    "            for j in [\"A\", \"C\", \"G\", \"T\"]:\n",
    "                neighborhood.append(j + i)\n",
    "        else:\n",
    "            neighborhood.append(pattern[0] + i)\n",
    "\n",
    "    return neighborhood\n",
    "\n",
    "def frequent_reverse(Text, k, d):\n",
    "    Patterns = []\n",
    "    freqMap = {}\n",
    "    n = len(Text)\n",
    "    for i in range (n - k +1):\n",
    "        Pattern = Text[i:k+i]\n",
    "        rev_pattern = reverse_complement(Pattern)\n",
    "        neighborhood1 = neighbors(Pattern, d)\n",
    "        rev_neighborhood = neighbors(rev_pattern, d)\n",
    "        neighborhood = neighborhood1 + rev_neighborhood\n",
    "        \n",
    "        for j in range (len(neighborhood)):\n",
    "            neighbor = neighborhood[j]\n",
    "            if neighbor not in freqMap:\n",
    "                freqMap[neighbor] = 1\n",
    "            else:\n",
    "                freqMap[neighbor] += 1\n",
    "    \n",
    "    max_count = max(freqMap.values())\n",
    "\n",
    "    for key, val in freqMap.items():\n",
    "        if max_count == val:\n",
    "            Patterns.append(key)\n",
    "    return Patterns\n",
    "\n",
    "def main():\n",
    "    with open('/Users/nises/Downloads/dataset_604405_10.txt') as input_data:\n",
    "        text1 = input_data.readline().strip()\n",
    "        \n",
    "        params = input_data.readline().strip().split('\\n')\n",
    "        split_params = [n for n in params[0].split(' ')]\n",
    "        k = int(split_params[0])\n",
    "        d = int(split_params[1])\n",
    "        \n",
    "    answer = frequent_reverse(text1, k, d)\n",
    "#     answer = frequent_reverse('ACGTTGCATGTCGCATGATGCATGAGAGCT', 4, 1)\n",
    "    print(answer)\n",
    "    with open(os.path.join('/Users/nises/Desktop/Answer.txt'), 'w') as output_data:\n",
    "        output_data.write(' '.join(answer))\n",
    "\n",
    "if __name__ == '__main__':\n",
    "    main()"
   ]
  },
  {
   "cell_type": "markdown",
   "id": "4af200e9",
   "metadata": {},
   "source": [
    "# 1.11 Step 4"
   ]
  },
  {
   "cell_type": "code",
   "execution_count": 261,
   "id": "2777e8d6",
   "metadata": {},
   "outputs": [],
   "source": [
    "def neighbors(pattern, d):\n",
    "    if d == 0:\n",
    "        return pattern\n",
    "    if len(pattern) == 1:\n",
    "        return [\"A\", \"C\", \"G\", \"T\"]\n",
    "    neighborhood= []\n",
    "    suffixneighbors = neighbors(pattern[1:], d)\n",
    "    for i in suffixneighbors:\n",
    "        if hamming_distance(pattern[1:], i) < d:\n",
    "            for j in [\"A\", \"C\", \"G\", \"T\"]:\n",
    "                neighborhood.append(j + i)\n",
    "        else:\n",
    "            neighborhood.append(pattern[0] + i)\n",
    "\n",
    "    return neighborhood\n",
    "\n",
    "answer = neighbors('CCTGAGCAT', 3)\n",
    "with open(os.path.join('/Users/nises/Desktop/Answer.txt'), 'w') as output_data:\n",
    "        output_data.write(' '.join(answer))"
   ]
  },
  {
   "cell_type": "markdown",
   "id": "1ab4b9cb",
   "metadata": {},
   "source": [
    "#END"
   ]
  }
 ],
 "metadata": {
  "kernelspec": {
   "display_name": "Python 3 (ipykernel)",
   "language": "python",
   "name": "python3"
  },
  "language_info": {
   "codemirror_mode": {
    "name": "ipython",
    "version": 3
   },
   "file_extension": ".py",
   "mimetype": "text/x-python",
   "name": "python",
   "nbconvert_exporter": "python",
   "pygments_lexer": "ipython3",
   "version": "3.9.7"
  }
 },
 "nbformat": 4,
 "nbformat_minor": 5
}
